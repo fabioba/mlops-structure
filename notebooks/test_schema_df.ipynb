{
 "cells": [
  {
   "cell_type": "code",
   "execution_count": null,
   "metadata": {},
   "outputs": [],
   "source": [
    "import pandas as pd"
   ]
  },
  {
   "cell_type": "code",
   "execution_count": null,
   "metadata": {},
   "outputs": [],
   "source": [
    "feature_engineered_metadata={\n",
    "                \"step_name\":\"self.__step_name\",\n",
    "                \"version\":\"self.__version\",\n",
    "                \"staging_level\":\"self.__staging_level_run_type\",\n",
    "                \"pipeline_type\":\"self.__pipeline_type\",\n",
    "                \"current_date\":\"self.__current_date\",\n",
    "                \"num_columns\":0,\n",
    "                \"list_columns_metadata\": [['list_columns_metadata','ok']]\n",
    "                }"
   ]
  },
  {
   "cell_type": "code",
   "execution_count": null,
   "metadata": {},
   "outputs": [],
   "source": [
    "pd.DataFrame(feature_engineered_metadata)"
   ]
  },
  {
   "cell_type": "code",
   "execution_count": null,
   "metadata": {},
   "outputs": [],
   "source": []
  }
 ],
 "metadata": {
  "kernelspec": {
   "display_name": "Python 3.8.13 ('dds-ml-pipeline')",
   "language": "python",
   "name": "python3"
  },
  "language_info": {
   "codemirror_mode": {
    "name": "ipython",
    "version": 3
   },
   "file_extension": ".py",
   "mimetype": "text/x-python",
   "name": "python",
   "nbconvert_exporter": "python",
   "pygments_lexer": "ipython3",
   "version": "3.8.13"
  },
  "orig_nbformat": 4,
  "vscode": {
   "interpreter": {
    "hash": "123cb711a42a89f9d38fe78e35a4c141c7f0db331e1987eee0edc5e27dda3da6"
   }
  }
 },
 "nbformat": 4,
 "nbformat_minor": 2
}
