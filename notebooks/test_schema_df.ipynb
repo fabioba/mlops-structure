{
 "cells": [
  {
   "cell_type": "code",
   "execution_count": 19,
   "metadata": {},
   "outputs": [],
   "source": [
    "import pandas as pd"
   ]
  },
  {
   "cell_type": "code",
   "execution_count": 22,
   "metadata": {},
   "outputs": [],
   "source": [
    "feature_engineered_metadata={\n",
    "                \"step_name\":\"self.__step_name\",\n",
    "                \"version\":\"self.__version\",\n",
    "                \"staging_level\":\"self.__staging_level_run_type\",\n",
    "                \"pipeline_type\":\"self.__pipeline_type\",\n",
    "                \"current_date\":\"self.__current_date\",\n",
    "                \"num_columns\":0,\n",
    "                \"list_columns_metadata\": [['list_columns_metadata','ok','ciao']]\n",
    "                }"
   ]
  },
  {
   "cell_type": "code",
   "execution_count": 23,
   "metadata": {},
   "outputs": [
    {
     "data": {
      "text/html": [
       "<div>\n",
       "<style scoped>\n",
       "    .dataframe tbody tr th:only-of-type {\n",
       "        vertical-align: middle;\n",
       "    }\n",
       "\n",
       "    .dataframe tbody tr th {\n",
       "        vertical-align: top;\n",
       "    }\n",
       "\n",
       "    .dataframe thead th {\n",
       "        text-align: right;\n",
       "    }\n",
       "</style>\n",
       "<table border=\"1\" class=\"dataframe\">\n",
       "  <thead>\n",
       "    <tr style=\"text-align: right;\">\n",
       "      <th></th>\n",
       "      <th>step_name</th>\n",
       "      <th>version</th>\n",
       "      <th>staging_level</th>\n",
       "      <th>pipeline_type</th>\n",
       "      <th>current_date</th>\n",
       "      <th>num_columns</th>\n",
       "      <th>list_columns_metadata</th>\n",
       "    </tr>\n",
       "  </thead>\n",
       "  <tbody>\n",
       "    <tr>\n",
       "      <th>0</th>\n",
       "      <td>self.__step_name</td>\n",
       "      <td>self.__version</td>\n",
       "      <td>self.__staging_level_run_type</td>\n",
       "      <td>self.__pipeline_type</td>\n",
       "      <td>self.__current_date</td>\n",
       "      <td>0</td>\n",
       "      <td>[list_columns_metadata, ok, ciao]</td>\n",
       "    </tr>\n",
       "  </tbody>\n",
       "</table>\n",
       "</div>"
      ],
      "text/plain": [
       "          step_name         version                  staging_level  \\\n",
       "0  self.__step_name  self.__version  self.__staging_level_run_type   \n",
       "\n",
       "          pipeline_type         current_date  num_columns  \\\n",
       "0  self.__pipeline_type  self.__current_date            0   \n",
       "\n",
       "               list_columns_metadata  \n",
       "0  [list_columns_metadata, ok, ciao]  "
      ]
     },
     "execution_count": 23,
     "metadata": {},
     "output_type": "execute_result"
    }
   ],
   "source": [
    "pd.DataFrame(feature_engineered_metadata)"
   ]
  },
  {
   "cell_type": "code",
   "execution_count": null,
   "metadata": {},
   "outputs": [],
   "source": []
  }
 ],
 "metadata": {
  "kernelspec": {
   "display_name": "Python 3.8.13 ('dds-ml-pipeline')",
   "language": "python",
   "name": "python3"
  },
  "language_info": {
   "codemirror_mode": {
    "name": "ipython",
    "version": 3
   },
   "file_extension": ".py",
   "mimetype": "text/x-python",
   "name": "python",
   "nbconvert_exporter": "python",
   "pygments_lexer": "ipython3",
   "version": "3.8.13"
  },
  "orig_nbformat": 4,
  "vscode": {
   "interpreter": {
    "hash": "123cb711a42a89f9d38fe78e35a4c141c7f0db331e1987eee0edc5e27dda3da6"
   }
  }
 },
 "nbformat": 4,
 "nbformat_minor": 2
}
